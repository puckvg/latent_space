{
 "cells": [
  {
   "cell_type": "code",
   "execution_count": 1,
   "metadata": {},
   "outputs": [],
   "source": [
    "import pandas\n",
    "import tools\n",
    "from rdkit import Chem"
   ]
  },
  {
   "cell_type": "code",
   "execution_count": 2,
   "metadata": {},
   "outputs": [],
   "source": [
    "df = pandas.read_csv(\"../qm9_properties.csv\", sep = \"\\t\", index_col=0)"
   ]
  },
  {
   "cell_type": "code",
   "execution_count": 3,
   "metadata": {},
   "outputs": [],
   "source": [
    "im_freqs = df.loc[\"imaginary_frequency_count\", :]"
   ]
  },
  {
   "cell_type": "code",
   "execution_count": 4,
   "metadata": {},
   "outputs": [
    {
     "data": {
      "text/plain": [
       "dsC7O2H10nsd_0001    0\n",
       "dsC7O2H10nsd_0002    0\n",
       "dsC7O2H10nsd_0003    0\n",
       "dsC7O2H10nsd_0004    2\n",
       "dsC7O2H10nsd_0005    1\n",
       "                    ..\n",
       "dsC7O2H10nsd_6091    1\n",
       "dsC7O2H10nsd_6092    2\n",
       "dsC7O2H10nsd_6093    1\n",
       "dsC7O2H10nsd_6094    2\n",
       "dsC7O2H10nsd_6095    2\n",
       "Name: imaginary_frequency_count, Length: 6095, dtype: object"
      ]
     },
     "execution_count": 4,
     "metadata": {},
     "output_type": "execute_result"
    }
   ],
   "source": [
    "im_freqs"
   ]
  },
  {
   "cell_type": "markdown",
   "metadata": {},
   "source": [
    "## Plot graph of im freqs "
   ]
  },
  {
   "cell_type": "code",
   "execution_count": 10,
   "metadata": {},
   "outputs": [
    {
     "data": {
      "text/plain": [
       "Text(0, 0.5, 'Number of molecules')"
      ]
     },
     "execution_count": 10,
     "metadata": {},
     "output_type": "execute_result"
    },
    {
     "data": {
      "image/png": "[encoded data removed]",
      "text/plain": [
       "<Figure size 432x288 with 1 Axes>"
      ]
     },
     "metadata": {
      "needs_background": "light"
     },
     "output_type": "display_data"
    }
   ],
   "source": [
    "ax = im_freqs.value_counts().sort_index().plot.bar()\n",
    "ax.set_xlabel(\"Number of imaginary frequencies\")\n",
    "ax.set_ylabel(\"Number of molecules\")"
   ]
  },
  {
   "cell_type": "markdown",
   "metadata": {},
   "source": [
    "## Write lists to files"
   ]
  },
  {
   "cell_type": "code",
   "execution_count": 6,
   "metadata": {},
   "outputs": [
    {
     "data": {
      "text/plain": [
       "[]"
      ]
     },
     "execution_count": 6,
     "metadata": {},
     "output_type": "execute_result"
    }
   ],
   "source": [
    "zero_molecules = im_freqs[im_freqs==0].index.tolist()\n",
    "zero_molecules"
   ]
  },
  {
   "cell_type": "code",
   "execution_count": 7,
   "metadata": {},
   "outputs": [],
   "source": [
    "for i in range(7):\n",
    "    label = str(i) + \"_frequencies\"\n",
    "    list_molecules = im_freqs[im_freqs==i].index.tolist()\n",
    "    tools.write_list_to_file(list_molecules, label + \".txt\")"
   ]
  },
  {
   "cell_type": "markdown",
   "metadata": {},
   "source": [
    "## Produce grid images of some molecules in each list"
   ]
  },
  {
   "cell_type": "code",
   "execution_count": 8,
   "metadata": {},
   "outputs": [],
   "source": [
    "# see https://www.rdkit.org/docs/GettingStartedInPython.html under\n",
    "# \"drawing molecules\"\n",
    "# Input: SDF/ smiles \n",
    "# for mol in mols: tmp = AllChem.Compute2DCoords(mol)\n",
    "# Chem.Draw.MolsToGridImage(mols, molsPerRow=x)\n",
    "# or w substructure match \n",
    "# backbone = mol\n",
    "# submols = [x for x in mols if x.HasSubStructMatch(backbone)]\n",
    "# for mol in submols: AllChem.GenerateDepictionMatching2DStructure(mol,backbone)\n",
    "# img = Draw.MolsToGridImage(submols, molsPerRow=x)\n",
    "# img.save(\"bla.png\")"
   ]
  },
  {
   "cell_type": "code",
   "execution_count": null,
   "metadata": {},
   "outputs": [],
   "source": []
  },
  {
   "cell_type": "code",
   "execution_count": null,
   "metadata": {},
   "outputs": [],
   "source": []
  }
 ],
 "metadata": {
  "kernelspec": {
   "display_name": "Python 3",
   "language": "python",
   "name": "python3"
  },
  "language_info": {
   "codemirror_mode": {
    "name": "ipython",
    "version": 3
   },
   "file_extension": ".py",
   "mimetype": "text/x-python",
   "name": "python",
   "nbconvert_exporter": "python",
   "pygments_lexer": "ipython3",
   "version": "3.7.6"
  }
 },
 "nbformat": 4,
 "nbformat_minor": 4
}
