{
 "cells": [
  {
   "cell_type": "code",
   "execution_count": 1,
   "metadata": {},
   "outputs": [],
   "source": [
    "import pandas\n",
    "import tools"
   ]
  },
  {
   "cell_type": "code",
   "execution_count": 2,
   "metadata": {},
   "outputs": [],
   "source": [
    "df = pandas.read_csv(\"../qm9_properties.csv\", sep = \"\\t\", index_col=0)"
   ]
  },
  {
   "cell_type": "code",
   "execution_count": 3,
   "metadata": {},
   "outputs": [],
   "source": [
    "im_freqs = df.loc[\"imaginary_frequency_count\", :]"
   ]
  },
  {
   "cell_type": "code",
   "execution_count": 4,
   "metadata": {},
   "outputs": [
    {
     "data": {
      "text/plain": [
       "dsC7O2H10nsd_0001    1.0\n",
       "dsC7O2H10nsd_0002    2.0\n",
       "dsC7O2H10nsd_0003    2.0\n",
       "dsC7O2H10nsd_0004    2.0\n",
       "dsC7O2H10nsd_0005    4.0\n",
       "                    ... \n",
       "dsC7O2H10nsd_6091    2.0\n",
       "dsC7O2H10nsd_6092    3.0\n",
       "dsC7O2H10nsd_6093    3.0\n",
       "dsC7O2H10nsd_6094    3.0\n",
       "dsC7O2H10nsd_6095    4.0\n",
       "Name: imaginary_frequency_count, Length: 6095, dtype: float64"
      ]
     },
     "execution_count": 4,
     "metadata": {},
     "output_type": "execute_result"
    }
   ],
   "source": [
    "im_freqs"
   ]
  },
  {
   "cell_type": "code",
   "execution_count": 21,
   "metadata": {},
   "outputs": [
    {
     "data": {
      "text/plain": [
       "Text(0, 0.5, 'Number of molecules')"
      ]
     },
     "execution_count": 21,
     "metadata": {},
     "output_type": "execute_result"
    },
    {
     "data": {
      "image/png": "[encoded data removed]",
      "text/plain": [
       "<Figure size 432x288 with 1 Axes>"
      ]
     },
     "metadata": {
      "needs_background": "light"
     },
     "output_type": "display_data"
    }
   ],
   "source": [
    "ax = im_freqs.value_counts().sort_index().plot.bar()\n",
    "ax.set_xlabel(\"Number of imaginary frequencies\")\n",
    "ax.set_ylabel(\"Number of molecules\")"
   ]
  },
  {
   "cell_type": "code",
   "execution_count": 26,
   "metadata": {},
   "outputs": [
    {
     "data": {
      "text/plain": [
       "['dsC7O2H10nsd_0006',\n",
       " 'dsC7O2H10nsd_0009',\n",
       " 'dsC7O2H10nsd_0020',\n",
       " 'dsC7O2H10nsd_0029',\n",
       " 'dsC7O2H10nsd_0057',\n",
       " 'dsC7O2H10nsd_0074',\n",
       " 'dsC7O2H10nsd_0130',\n",
       " 'dsC7O2H10nsd_0160',\n",
       " 'dsC7O2H10nsd_0203',\n",
       " 'dsC7O2H10nsd_0275',\n",
       " 'dsC7O2H10nsd_0300',\n",
       " 'dsC7O2H10nsd_0406',\n",
       " 'dsC7O2H10nsd_0407',\n",
       " 'dsC7O2H10nsd_0419',\n",
       " 'dsC7O2H10nsd_0451',\n",
       " 'dsC7O2H10nsd_0562',\n",
       " 'dsC7O2H10nsd_0720',\n",
       " 'dsC7O2H10nsd_0786',\n",
       " 'dsC7O2H10nsd_0854',\n",
       " 'dsC7O2H10nsd_0862',\n",
       " 'dsC7O2H10nsd_0935',\n",
       " 'dsC7O2H10nsd_0990',\n",
       " 'dsC7O2H10nsd_0999',\n",
       " 'dsC7O2H10nsd_1035',\n",
       " 'dsC7O2H10nsd_1085',\n",
       " 'dsC7O2H10nsd_1087',\n",
       " 'dsC7O2H10nsd_1232',\n",
       " 'dsC7O2H10nsd_1246',\n",
       " 'dsC7O2H10nsd_1316',\n",
       " 'dsC7O2H10nsd_1448',\n",
       " 'dsC7O2H10nsd_1528',\n",
       " 'dsC7O2H10nsd_1577',\n",
       " 'dsC7O2H10nsd_1606',\n",
       " 'dsC7O2H10nsd_1667',\n",
       " 'dsC7O2H10nsd_1694',\n",
       " 'dsC7O2H10nsd_1796',\n",
       " 'dsC7O2H10nsd_1828',\n",
       " 'dsC7O2H10nsd_1837',\n",
       " 'dsC7O2H10nsd_1930',\n",
       " 'dsC7O2H10nsd_1956',\n",
       " 'dsC7O2H10nsd_2032',\n",
       " 'dsC7O2H10nsd_2068',\n",
       " 'dsC7O2H10nsd_2105',\n",
       " 'dsC7O2H10nsd_2125',\n",
       " 'dsC7O2H10nsd_2190',\n",
       " 'dsC7O2H10nsd_2288',\n",
       " 'dsC7O2H10nsd_2303',\n",
       " 'dsC7O2H10nsd_2329',\n",
       " 'dsC7O2H10nsd_2402',\n",
       " 'dsC7O2H10nsd_2416',\n",
       " 'dsC7O2H10nsd_2421',\n",
       " 'dsC7O2H10nsd_2606',\n",
       " 'dsC7O2H10nsd_2622',\n",
       " 'dsC7O2H10nsd_2628',\n",
       " 'dsC7O2H10nsd_2654',\n",
       " 'dsC7O2H10nsd_2658',\n",
       " 'dsC7O2H10nsd_2664',\n",
       " 'dsC7O2H10nsd_2676',\n",
       " 'dsC7O2H10nsd_2681',\n",
       " 'dsC7O2H10nsd_2698',\n",
       " 'dsC7O2H10nsd_2712',\n",
       " 'dsC7O2H10nsd_2723',\n",
       " 'dsC7O2H10nsd_2803',\n",
       " 'dsC7O2H10nsd_2808',\n",
       " 'dsC7O2H10nsd_2825',\n",
       " 'dsC7O2H10nsd_2830',\n",
       " 'dsC7O2H10nsd_2848',\n",
       " 'dsC7O2H10nsd_2925',\n",
       " 'dsC7O2H10nsd_2947',\n",
       " 'dsC7O2H10nsd_3097',\n",
       " 'dsC7O2H10nsd_3273',\n",
       " 'dsC7O2H10nsd_3275',\n",
       " 'dsC7O2H10nsd_3532',\n",
       " 'dsC7O2H10nsd_3541',\n",
       " 'dsC7O2H10nsd_3564',\n",
       " 'dsC7O2H10nsd_3598',\n",
       " 'dsC7O2H10nsd_3655',\n",
       " 'dsC7O2H10nsd_3788',\n",
       " 'dsC7O2H10nsd_3814',\n",
       " 'dsC7O2H10nsd_3835',\n",
       " 'dsC7O2H10nsd_3946',\n",
       " 'dsC7O2H10nsd_4023',\n",
       " 'dsC7O2H10nsd_4067',\n",
       " 'dsC7O2H10nsd_4194',\n",
       " 'dsC7O2H10nsd_4216',\n",
       " 'dsC7O2H10nsd_4237',\n",
       " 'dsC7O2H10nsd_4344',\n",
       " 'dsC7O2H10nsd_4360',\n",
       " 'dsC7O2H10nsd_4457',\n",
       " 'dsC7O2H10nsd_4469',\n",
       " 'dsC7O2H10nsd_4478',\n",
       " 'dsC7O2H10nsd_4490',\n",
       " 'dsC7O2H10nsd_4517',\n",
       " 'dsC7O2H10nsd_4527',\n",
       " 'dsC7O2H10nsd_4541',\n",
       " 'dsC7O2H10nsd_4644',\n",
       " 'dsC7O2H10nsd_4700',\n",
       " 'dsC7O2H10nsd_4750',\n",
       " 'dsC7O2H10nsd_4814',\n",
       " 'dsC7O2H10nsd_4842',\n",
       " 'dsC7O2H10nsd_4860',\n",
       " 'dsC7O2H10nsd_4876',\n",
       " 'dsC7O2H10nsd_4938',\n",
       " 'dsC7O2H10nsd_4967',\n",
       " 'dsC7O2H10nsd_5050',\n",
       " 'dsC7O2H10nsd_5069',\n",
       " 'dsC7O2H10nsd_5076',\n",
       " 'dsC7O2H10nsd_5078',\n",
       " 'dsC7O2H10nsd_5103',\n",
       " 'dsC7O2H10nsd_5174',\n",
       " 'dsC7O2H10nsd_5283',\n",
       " 'dsC7O2H10nsd_5354',\n",
       " 'dsC7O2H10nsd_5478',\n",
       " 'dsC7O2H10nsd_5502',\n",
       " 'dsC7O2H10nsd_5556',\n",
       " 'dsC7O2H10nsd_5575',\n",
       " 'dsC7O2H10nsd_5604',\n",
       " 'dsC7O2H10nsd_5720',\n",
       " 'dsC7O2H10nsd_5730',\n",
       " 'dsC7O2H10nsd_5765',\n",
       " 'dsC7O2H10nsd_5767',\n",
       " 'dsC7O2H10nsd_5835',\n",
       " 'dsC7O2H10nsd_5870',\n",
       " 'dsC7O2H10nsd_6025',\n",
       " 'dsC7O2H10nsd_6054',\n",
       " 'dsC7O2H10nsd_6058']"
      ]
     },
     "execution_count": 26,
     "metadata": {},
     "output_type": "execute_result"
    }
   ],
   "source": [
    "zero_molecules = im_freqs[im_freqs==0].index.tolist()\n",
    "zero_molecules"
   ]
  },
  {
   "cell_type": "code",
   "execution_count": 30,
   "metadata": {},
   "outputs": [],
   "source": [
    "for i in range(7):\n",
    "    label = str(i) + \"_frequencies\"\n",
    "    list_molecules = im_freqs[im_freqs==i].index.tolist()\n",
    "    tools.write_list_to_file(list_molecules, label + \".txt\")"
   ]
  },
  {
   "cell_type": "code",
   "execution_count": null,
   "metadata": {},
   "outputs": [],
   "source": []
  }
 ],
 "metadata": {
  "kernelspec": {
   "display_name": "Python 3",
   "language": "python",
   "name": "python3"
  },
  "language_info": {
   "codemirror_mode": {
    "name": "ipython",
    "version": 3
   },
   "file_extension": ".py",
   "mimetype": "text/x-python",
   "name": "python",
   "nbconvert_exporter": "python",
   "pygments_lexer": "ipython3",
   "version": "3.7.6"
  }
 },
 "nbformat": 4,
 "nbformat_minor": 4
}
